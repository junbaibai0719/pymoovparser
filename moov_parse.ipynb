{
 "cells": [
  {
   "cell_type": "code",
   "execution_count": 6,
   "id": "f8841c63-e7f1-42be-aafc-f46d48208ad2",
   "metadata": {
    "scrolled": true
   },
   "outputs": [
    {
     "name": "stdout",
     "output_type": "stream",
     "text": [
      "CPU times: total: 15.6 ms\n",
      "Wall time: 14 ms\n"
     ]
    },
    {
     "data": {
      "text/plain": [
       "name:b'moov', size:1055059, start:7022185\n",
       "  name:b'mvhd', size:108, start:7022193\n",
       "  name:b'trak', size:3834, start:7022301\n",
       "  name:b'tkhd', size:92, start:7022309\n",
       "  name:b'mdia', size:3734, start:7022401\n",
       "  name:b'mdhd', size:32, start:7022409\n",
       "  name:b'hdlr', size:45, start:7022441\n",
       "  name:b'minf', size:3649, start:7022486\n",
       "  name:b'stbl', size:3585, start:7022550\n",
       "  name:b'stsd', size:149, start:7022558\n",
       "  name:b'stts', size:1056, start:7022707\n",
       "  name:b'ctts', size:1016, start:7023763\n",
       "  name:b'stsc', size:52, start:7024779\n",
       "  name:b'stsz', size:1120, start:7024831\n",
       "  name:b'stco', size:128, start:7025951\n",
       "  name:b'trak', size:2473, start:7026135\n",
       "  name:b'tkhd', size:92, start:7026143\n",
       "  name:b'mdia', size:2373, start:7026235\n",
       "  name:b'mdhd', size:32, start:7026243\n",
       "  name:b'hdlr', size:45, start:7026275\n",
       "  name:b'minf', size:2288, start:7026320\n",
       "  name:b'stbl', size:2228, start:7026380\n",
       "  name:b'stsd', size:100, start:7026388\n",
       "  name:b'stts', size:24, start:7026488\n",
       "  name:b'stsc', size:256, start:7026512\n",
       "  name:b'stsz', size:1716, start:7026768\n",
       "  name:b'stco', size:124, start:7028484\n",
       "  name:b'udta', size:1048584, start:7028660"
      ]
     },
     "execution_count": 6,
     "metadata": {},
     "output_type": "execute_result"
    }
   ],
   "source": [
    "%%time\n",
    "file_path = r\"C:\\Users\\lin\\Videos\\Captures\\梦幻西游：129五开带魔花果山的另类组合，效率逆天。第（1_2）集_梦幻西游2_游戏资讯 - Google Chrome 2022-09-29 22-14-24.mp4\"\n",
    "\n",
    "\n",
    "class Node:\n",
    "    name: str\n",
    "    size: int\n",
    "    start: int\n",
    "    children: list\n",
    "\n",
    "    def __init__(self, name, size, start):\n",
    "        self.name = name\n",
    "        self.size = size\n",
    "        self.start = start\n",
    "        self.children = []\n",
    "\n",
    "    def __repr__(self):\n",
    "        res = []\n",
    "        res.append(f\"name:{self.name}, size:{self.size}, start:{self.start}\")\n",
    "        for child in self.children:\n",
    "            res.append(f\"  {child.__repr__()}\")\n",
    "        return \"\\n\".join(res)\n",
    "\n",
    "\n",
    "moov = b\"moov\"\n",
    "mvhd = b\"mvhd\"\n",
    "trak = b\"trak\"\n",
    "udta_sub_atom = [b\"tagc\"]\n",
    "trak_sub_atom = [\n",
    "    b\"prfl\",\n",
    "    b\"tkhd\",\n",
    "    b\"tapt\",\n",
    "    b\"clip\",\n",
    "    b\"matt\",\n",
    "    b\"edts\",\n",
    "    b\"tref\",\n",
    "    b\"txas\",\n",
    "    b\"load\",\n",
    "    b\"imap\",\n",
    "    b\"udta\",\n",
    "    b\"mdia\",\n",
    "]\n",
    "mdia_sub_atom = [b\"mdhd\", b\"elng\", b\"hdlr\", b\"minf\", b\"udta\"]\n",
    "\n",
    "stbl_sub_atom = [b\"stsd\", b\"stts\", b'ctts', b\"cslg\", b'stco', b'stsc', b'stsz']\n",
    "\n",
    "def if_node(data, d, name, start):\n",
    "    node = None\n",
    "    if data[d:d+4] == name:\n",
    "        node = Node(\n",
    "            name, int.from_bytes(data[d - 4 : d], byteorder=\"big\"), start + d - 4\n",
    "        )\n",
    "\n",
    "    return node\n",
    "\n",
    "def parse_stts(data):\n",
    "    size = data[:4]\n",
    "    type_ = data[4:8]\n",
    "    version = data[8:9]\n",
    "    flags = int.from_bytes(data[9:12], byteorder=\"big\")\n",
    "    num_entries = int.from_bytes(data[12:16], byteorder=\"big\")\n",
    "    ttst = data[16:]\n",
    "    sample_count, sample_cost = 0, 0\n",
    "    samples = []\n",
    "    count =0\n",
    "    for i in range(0, len(ttst), 8):\n",
    "        sample_count = int.from_bytes(ttst[i:i+4], byteorder=\"big\")\n",
    "        sample_cost = int.from_bytes(ttst[i+4:i+8], byteorder=\"big\")\n",
    "        count+=sample_count\n",
    "        samples.append({\n",
    "            \"count\": sample_count,\n",
    "            \"cost\": sample_cost\n",
    "        })\n",
    "    # print(count)\n",
    "    # print(samples)\n",
    "\n",
    "def parse_stbl(parent, data, start):\n",
    "    parent_data = data[start : parent.size+start]\n",
    "    for d in range(parent.size-4):\n",
    "        for name in stbl_sub_atom:\n",
    "            node = if_node(parent_data, d, name, parent.start)\n",
    "            if node:\n",
    "                if name == b'stts':\n",
    "                    parse_stts(parent_data[d-4:d-4+node.size])\n",
    "                parent.children.append(node)\n",
    "                continue\n",
    "\n",
    "def parse_minf(parent, data, start):\n",
    "    parent_data = data[start : parent.size+start]\n",
    "    for d in range(parent.size-4):\n",
    "        node = if_node(parent_data, d, b\"stbl\", parent.start)\n",
    "        if node:\n",
    "            parse_stbl(node, data, start+d-4)\n",
    "            parent.children.append(node)\n",
    "            continue\n",
    "\n",
    "\n",
    "def parse_mdia(parent, data, start):\n",
    "    parent_data = data[start : parent.size + start]\n",
    "    for d in range(parent.size-4):\n",
    "        for name in mdia_sub_atom:\n",
    "            node = if_node(parent_data, d, name, parent.start)\n",
    "            if node:\n",
    "                if node.name == b\"minf\":\n",
    "                    parse_minf(node, data, start+d-4)\n",
    "                mdia_node.children.append(node)\n",
    "                continue\n",
    "\n",
    "\n",
    "with open(file_path, \"rb\") as fp:\n",
    "    data = fp.read()\n",
    "    moov_pos = data.find(b'moov')\n",
    "    fp.seek(7022189 - 4)\n",
    "    data = fp.read(4)\n",
    "    moov_size = int.from_bytes(data, byteorder=\"big\")\n",
    "    fp.seek(7022189 - 4)\n",
    "    data = fp.read(moov_size)\n",
    "    moov_atom = Node(moov, moov_size, 7022189 - 4)\n",
    "    trak_atom = None\n",
    "    mdia_list = []\n",
    "    d = 0\n",
    "    while d < moov_size-4:\n",
    "        node = if_node(data, d, mvhd, moov_atom.start)\n",
    "        if node:\n",
    "            moov_atom.children.append(node)\n",
    "            d += node.size\n",
    "            node = None\n",
    "            continue\n",
    "        node = if_node(data, d, trak, moov_atom.start)\n",
    "        if node:\n",
    "            trak_atom = node\n",
    "            moov_atom.children.append(node)\n",
    "            node = None\n",
    "            d += 1\n",
    "            continue\n",
    "        for name in trak_sub_atom:\n",
    "            node = if_node(data, d, name, moov_atom.start)\n",
    "            if node:\n",
    "                if name == b\"mdia\":\n",
    "                    mdia_list.append(node)\n",
    "                trak_atom.children.append(node)\n",
    "                d += node.size\n",
    "                node = None\n",
    "                break\n",
    "        else:\n",
    "            d += 1\n",
    "    for mdia_node in mdia_list:\n",
    "        relativ_pos = mdia_node.start - moov_atom.start\n",
    "        parse_mdia(mdia_node, data, relativ_pos)\n",
    "    # print(udta_data[:1024])\n",
    "    # print(udta_data.find(b'©nam'))\n",
    "\n",
    "    # for i in range(udta_node.size):\n",
    "    #     node = if_node(udta_data, i, b'tagc', udta_node.start)\n",
    "    #     if node:\n",
    "    #         print(node)\n",
    "moov_atom"
   ]
  },
  {
   "cell_type": "code",
   "execution_count": 18,
   "id": "f50a7325-31a9-435f-9831-87820cddfca6",
   "metadata": {},
   "outputs": [
    {
     "name": "stdout",
     "output_type": "stream",
     "text": [
      "None\n",
      "CPU times: total: 1.28 s\n",
      "Wall time: 1.28 s\n"
     ]
    }
   ],
   "source": [
    "%%time\n",
    "root = None\n",
    "node = None\n",
    "p = 0\n",
    "atom_name_ptr = 0\n",
    "\n",
    "def is_atom(data, atom_type):\n",
    "    return data[0] == atom_type[0] and data[1] == atom_type[1] and data[2] == atom_type[2] and data[3] == atom_type[3]\n",
    "\n",
    "def char2int32(data):\n",
    "    return (data[0] << 24) | (data[1] << 16) | (data[2] << 8) | data[3]\n",
    "all_atom_names = [\"moov\", \"mvhd\", \"trak\",\n",
    "    \"prfl\",\n",
    "    \"tkhd\",\n",
    "    \"tapt\",\n",
    "    \"clip\",\n",
    "    \"matt\",\n",
    "    \"edts\",\n",
    "    \"tref\",\n",
    "    \"txas\",\n",
    "    \"load\",\n",
    "    \"imap\",\n",
    "    \"udta\",\n",
    "    \"mdia\",\n",
    "    \"mdhd\", \"elng\", \"hdlr\", \"minf\", \"udta\",\n",
    "    \"stsd\", \"stts\", \"ctts\", \"cslg\", \"stco\", \"stsc\", \"stsz\"\n",
    "    ]\n",
    "all_atom_names = [name.encode() for name in all_atom_names]\n",
    "with open(file_path, \"rb\") as fp:\n",
    "    data = fp.read()\n",
    "    while p < len(data)-4:\n",
    "        while atom_name_ptr < len(all_atom_names):\n",
    "            if data[p:p+4] == all_atom_names[atom_name_ptr]:\n",
    "                break\n",
    "            atom_name_ptr+=1\n",
    "        # if atom_name_ptr < len(all_atom_names):\n",
    "            # if node:\n",
    "            #     node.next = Node(atom_name_ptr[0], data[p-4:], char2int32(data[p-4:p]), p-4)\n",
    "            #     node = node.next\n",
    "            # if root is None: \n",
    "            #     root = Node(atom_name_ptr[0], data[p-4:], char2int32(data[p-4:p]), p-4)\n",
    "            #     node = root\n",
    "        p+=1 \n",
    "print(root)"
   ]
  },
  {
   "cell_type": "code",
   "execution_count": 2,
   "id": "710761cf-5099-4e04-bd38-2367dd4a067b",
   "metadata": {},
   "outputs": [],
   "source": [
    "from moovparser.moovparser import Node, parse_nodes"
   ]
  },
  {
   "cell_type": "code",
   "execution_count": 3,
   "id": "f01c5503-c2d9-4f18-b4a0-94d91c4f045e",
   "metadata": {},
   "outputs": [
    {
     "name": "stdout",
     "output_type": "stream",
     "text": [
      "5.47 ms ± 123 µs per loop (mean ± std. dev. of 7 runs, 100 loops each)\n"
     ]
    }
   ],
   "source": [
    "%%timeit\n",
    "file_path = r\"C:\\Users\\lin\\Videos\\Captures\\梦幻西游：129五开带魔花果山的另类组合，效率逆天。第（1_2）集_梦幻西游2_游戏资讯 - Google Chrome 2022-09-29 22-14-24.mp4\"\n",
    "with open(file_path, \"rb\") as fp:\n",
    "    data = fp.read()\n",
    "    # moov_pos = data.find(b'moov')\n",
    "    node = parse_nodes(data)\n",
    "    del data\n",
    "node"
   ]
  },
  {
   "cell_type": "code",
   "execution_count": null,
   "id": "85371459-7da0-4f0c-8f94-fb1f7bbc7202",
   "metadata": {},
   "outputs": [],
   "source": [
    "hex(1055059)"
   ]
  },
  {
   "cell_type": "code",
   "execution_count": 17,
   "id": "e5accba9-9fe4-4ef6-b919-12e999287930",
   "metadata": {},
   "outputs": [
    {
     "name": "stdout",
     "output_type": "stream",
     "text": [
      "4.62 ns ± 0.0552 ns per loop (mean ± std. dev. of 7 runs, 100,000,000 loops each)\n"
     ]
    }
   ],
   "source": [
    "%%timeit\n",
    "0x00<<24|0x10<<16|0x19<<8|0x53"
   ]
  },
  {
   "cell_type": "code",
   "execution_count": 19,
   "id": "cc244af2-64ec-48be-9c82-45e6547842f2",
   "metadata": {},
   "outputs": [
    {
     "name": "stdout",
     "output_type": "stream",
     "text": [
      "78.6 ns ± 0.104 ns per loop (mean ± std. dev. of 7 runs, 10,000,000 loops each)\n"
     ]
    }
   ],
   "source": [
    "%%timeit\n",
    "int.from_bytes(b\"\\x00\\x10\\x19\\x53\", byteorder=\"big\")"
   ]
  },
  {
   "cell_type": "code",
   "execution_count": 1,
   "id": "c43652d5-b123-4a14-a24b-14d1d48f9d86",
   "metadata": {},
   "outputs": [
    {
     "name": "stdout",
     "output_type": "stream",
     "text": [
      "b\"'\\n\\x03 \\x04\\x02\\x01\\x00\\x80@ \\x10\\x08\\x04\\x02\\x01\\x00\\x80@ \\x10\\x08\\x04\\x02\\x01\\x00\\x80@ \\x10\\x08\\x04\\x02\\x01\\x00\\x80@ \\x10\\x08\\x04\\x02\\x01\\x00\\x80@ \\x10\\x08i/\\xa4\\x00\\x00\\x00\\x00\\x00}>\\x9fO\\xa7\\xd3\\xe9\\xf4\\xfa}>\\x9fO\\xa7\\xd3\\xe9\\xf4\\xfa}>\\x9fO\\xa7\\xd3\\xe9\\xf4\\xd7E\\x14QE\\x14QE\\x14QE\\x14QE\\x14QE\\x14QE\\x14QE\\x14QE\\x14QE\\x14QE\\x14QE\\x14QE\\x14QE\\x14QE\\x14QE\\x14QE\\x14QE\\x14QE\\x14QE\\x14QE\\x14QE\\x14QE\\x14QE\\x14QE\\x14QE\\x14QE\\x14QE\\x14QE\\x14QE\\x14QE\\x14QE\\x14QE\\x14QE\\x14QE\\x14QE\\x14Q\\xc0\"\n"
     ]
    }
   ],
   "source": [
    "file_path = r\"C:\\Users\\lin\\Videos\\Captures\\梦幻西游：129五开带魔花果山的另类组合，效率逆天。第（1_2）集_梦幻西游2_游戏资讯 - Google Chrome 2022-09-29 22-14-24.mp4\"\n",
    "with open(file_path, \"rb\") as fp:\n",
    "    fp.seek(263092)\n",
    "    print(fp.read(193))"
   ]
  },
  {
   "cell_type": "code",
   "execution_count": null,
   "id": "66cea4d6-72a1-459d-91cb-f705645055f5",
   "metadata": {},
   "outputs": [],
   "source": []
  }
 ],
 "metadata": {
  "kernelspec": {
   "display_name": "video_player",
   "language": "python",
   "name": "video_player"
  },
  "language_info": {
   "codemirror_mode": {
    "name": "ipython",
    "version": 3
   },
   "file_extension": ".py",
   "mimetype": "text/x-python",
   "name": "python",
   "nbconvert_exporter": "python",
   "pygments_lexer": "ipython3",
   "version": "3.9.10"
  }
 },
 "nbformat": 4,
 "nbformat_minor": 5
}
